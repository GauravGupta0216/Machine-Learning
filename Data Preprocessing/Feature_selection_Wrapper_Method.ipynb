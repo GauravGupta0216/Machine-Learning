{
 "cells": [
  {
   "cell_type": "code",
   "execution_count": 108,
   "metadata": {},
   "outputs": [],
   "source": [
    "import pandas as pd  \n",
    "from sklearn.linear_model import LogisticRegression"
   ]
  },
  {
   "cell_type": "code",
   "execution_count": 109,
   "metadata": {},
   "outputs": [
    {
     "name": "stdout",
     "output_type": "stream",
     "text": [
      "<class 'pandas.core.frame.DataFrame'>\n",
      "RangeIndex: 366 entries, 0 to 365\n",
      "Data columns (total 35 columns):\n",
      "0     366 non-null int64\n",
      "1     366 non-null int64\n",
      "2     366 non-null int64\n",
      "3     366 non-null int64\n",
      "4     366 non-null int64\n",
      "5     366 non-null int64\n",
      "6     366 non-null int64\n",
      "7     366 non-null int64\n",
      "8     366 non-null int64\n",
      "9     366 non-null int64\n",
      "10    366 non-null int64\n",
      "11    366 non-null int64\n",
      "12    366 non-null int64\n",
      "13    366 non-null int64\n",
      "14    366 non-null int64\n",
      "15    366 non-null int64\n",
      "16    366 non-null int64\n",
      "17    366 non-null int64\n",
      "18    366 non-null int64\n",
      "19    366 non-null int64\n",
      "20    366 non-null int64\n",
      "21    366 non-null int64\n",
      "22    366 non-null int64\n",
      "23    366 non-null int64\n",
      "24    366 non-null int64\n",
      "25    366 non-null int64\n",
      "26    366 non-null int64\n",
      "27    366 non-null int64\n",
      "28    366 non-null int64\n",
      "29    366 non-null int64\n",
      "30    366 non-null int64\n",
      "31    366 non-null int64\n",
      "32    366 non-null int64\n",
      "33    366 non-null object\n",
      "34    366 non-null int64\n",
      "dtypes: int64(34), object(1)\n",
      "memory usage: 100.2+ KB\n"
     ]
    }
   ],
   "source": [
    "derma_ds = pd.read_csv('C:/Users/welcome/Desktop/ML/Mod4/dermatology.data',header=None)\n",
    "derma_ds.info()"
   ]
  },
  {
   "cell_type": "code",
   "execution_count": 110,
   "metadata": {},
   "outputs": [],
   "source": [
    "derma_ds[33] = pd.to_numeric(derma_ds[33], errors='coerce').fillna(0).astype(int)\n",
    "derma_ds[33] = derma_ds[33].replace(to_replace=0,value=int(derma_ds[33].mean()))"
   ]
  },
  {
   "cell_type": "code",
   "execution_count": 111,
   "metadata": {},
   "outputs": [],
   "source": [
    "x = derma_ds.iloc[:,0:34].values\n",
    "y = derma_ds.iloc[:, 34].values"
   ]
  },
  {
   "cell_type": "code",
   "execution_count": 112,
   "metadata": {},
   "outputs": [
    {
     "data": {
      "text/plain": [
       "('4', '6', '13', '14', '20', '25', '27', '31', '32')"
      ]
     },
     "execution_count": 112,
     "metadata": {},
     "output_type": "execute_result"
    }
   ],
   "source": [
    "from mlxtend.feature_selection import SequentialFeatureSelector as SFS\n",
    "sfs = SFS(LogisticRegression(solver='newton-cg',multi_class='multinomial'),\n",
    "          k_features=9,forward=True,floating=False,scoring = 'accuracy',cv = 0)\n",
    "sfs.fit(x,y)\n",
    "sfs.k_feature_names_"
   ]
  },
  {
   "cell_type": "code",
   "execution_count": 113,
   "metadata": {},
   "outputs": [
    {
     "data": {
      "text/plain": [
       "{1: {'feature_idx': (20,),\n",
       "  'cv_scores': array([0.50273224]),\n",
       "  'avg_score': 0.5027322404371585,\n",
       "  'feature_names': ('20',)},\n",
       " 2: {'feature_idx': (13, 20),\n",
       "  'cv_scores': array([0.67486339]),\n",
       "  'avg_score': 0.674863387978142,\n",
       "  'feature_names': ('13', '20')},\n",
       " 3: {'feature_idx': (13, 20, 32),\n",
       "  'cv_scores': array([0.79234973]),\n",
       "  'avg_score': 0.7923497267759563,\n",
       "  'feature_names': ('13', '20', '32')},\n",
       " 4: {'feature_idx': (13, 14, 20, 32),\n",
       "  'cv_scores': array([0.86885246]),\n",
       "  'avg_score': 0.8688524590163934,\n",
       "  'feature_names': ('13', '14', '20', '32')},\n",
       " 5: {'feature_idx': (6, 13, 14, 20, 32),\n",
       "  'cv_scores': array([0.92349727]),\n",
       "  'avg_score': 0.9234972677595629,\n",
       "  'feature_names': ('6', '13', '14', '20', '32')},\n",
       " 6: {'feature_idx': (4, 6, 13, 14, 20, 32),\n",
       "  'cv_scores': array([0.94808743]),\n",
       "  'avg_score': 0.9480874316939891,\n",
       "  'feature_names': ('4', '6', '13', '14', '20', '32')},\n",
       " 7: {'feature_idx': (4, 6, 13, 14, 20, 27, 32),\n",
       "  'cv_scores': array([0.97814208]),\n",
       "  'avg_score': 0.9781420765027322,\n",
       "  'feature_names': ('4', '6', '13', '14', '20', '27', '32')},\n",
       " 8: {'feature_idx': (4, 6, 13, 14, 20, 25, 27, 32),\n",
       "  'cv_scores': array([0.98360656]),\n",
       "  'avg_score': 0.9836065573770492,\n",
       "  'feature_names': ('4', '6', '13', '14', '20', '25', '27', '32')},\n",
       " 9: {'feature_idx': (4, 6, 13, 14, 20, 25, 27, 31, 32),\n",
       "  'cv_scores': array([0.98907104]),\n",
       "  'avg_score': 0.9890710382513661,\n",
       "  'feature_names': ('4', '6', '13', '14', '20', '25', '27', '31', '32')}}"
      ]
     },
     "execution_count": 113,
     "metadata": {},
     "output_type": "execute_result"
    }
   ],
   "source": [
    "sfs.subsets_"
   ]
  },
  {
   "cell_type": "code",
   "execution_count": 114,
   "metadata": {},
   "outputs": [
    {
     "data": {
      "text/plain": [
       "0.9890710382513661"
      ]
     },
     "execution_count": 114,
     "metadata": {},
     "output_type": "execute_result"
    }
   ],
   "source": [
    "sfs.k_score_"
   ]
  },
  {
   "cell_type": "code",
   "execution_count": 115,
   "metadata": {},
   "outputs": [
    {
     "data": {
      "text/plain": [
       "('1', '3', '4', '6', '7', '13', '14', '18', '27')"
      ]
     },
     "execution_count": 115,
     "metadata": {},
     "output_type": "execute_result"
    }
   ],
   "source": [
    "from mlxtend.feature_selection import SequentialFeatureSelector as SFS\n",
    "sbs = SFS(LogisticRegression(solver='newton-cg',multi_class='multinomial'),\n",
    "          k_features=9,forward=False,floating=False,scoring = 'accuracy',cv = 0)\n",
    "sbs.fit(x,y)\n",
    "sbs.k_feature_names_"
   ]
  },
  {
   "cell_type": "code",
   "execution_count": 116,
   "metadata": {},
   "outputs": [
    {
     "data": {
      "text/plain": [
       "0.9699453551912568"
      ]
     },
     "execution_count": 116,
     "metadata": {},
     "output_type": "execute_result"
    }
   ],
   "source": [
    "sbs.k_score_"
   ]
  },
  {
   "cell_type": "code",
   "execution_count": null,
   "metadata": {},
   "outputs": [],
   "source": []
  }
 ],
 "metadata": {
  "kernelspec": {
   "display_name": "Python 3",
   "language": "python",
   "name": "python3"
  },
  "language_info": {
   "codemirror_mode": {
    "name": "ipython",
    "version": 3
   },
   "file_extension": ".py",
   "mimetype": "text/x-python",
   "name": "python",
   "nbconvert_exporter": "python",
   "pygments_lexer": "ipython3",
   "version": "3.7.4"
  }
 },
 "nbformat": 4,
 "nbformat_minor": 2
}
