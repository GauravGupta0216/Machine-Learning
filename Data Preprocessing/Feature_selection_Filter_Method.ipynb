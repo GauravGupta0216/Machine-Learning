{
 "cells": [
  {
   "cell_type": "code",
   "execution_count": 1,
   "metadata": {},
   "outputs": [],
   "source": [
    "import pandas as pd \n",
    "import numpy as np\n",
    "import matplotlib.pyplot as plt"
   ]
  },
  {
   "cell_type": "code",
   "execution_count": 2,
   "metadata": {},
   "outputs": [
    {
     "name": "stdout",
     "output_type": "stream",
     "text": [
      "<class 'pandas.core.frame.DataFrame'>\n",
      "RangeIndex: 366 entries, 0 to 365\n",
      "Data columns (total 35 columns):\n",
      "0     366 non-null int64\n",
      "1     366 non-null int64\n",
      "2     366 non-null int64\n",
      "3     366 non-null int64\n",
      "4     366 non-null int64\n",
      "5     366 non-null int64\n",
      "6     366 non-null int64\n",
      "7     366 non-null int64\n",
      "8     366 non-null int64\n",
      "9     366 non-null int64\n",
      "10    366 non-null int64\n",
      "11    366 non-null int64\n",
      "12    366 non-null int64\n",
      "13    366 non-null int64\n",
      "14    366 non-null int64\n",
      "15    366 non-null int64\n",
      "16    366 non-null int64\n",
      "17    366 non-null int64\n",
      "18    366 non-null int64\n",
      "19    366 non-null int64\n",
      "20    366 non-null int64\n",
      "21    366 non-null int64\n",
      "22    366 non-null int64\n",
      "23    366 non-null int64\n",
      "24    366 non-null int64\n",
      "25    366 non-null int64\n",
      "26    366 non-null int64\n",
      "27    366 non-null int64\n",
      "28    366 non-null int64\n",
      "29    366 non-null int64\n",
      "30    366 non-null int64\n",
      "31    366 non-null int64\n",
      "32    366 non-null int64\n",
      "33    366 non-null object\n",
      "34    366 non-null int64\n",
      "dtypes: int64(34), object(1)\n",
      "memory usage: 100.2+ KB\n"
     ]
    }
   ],
   "source": [
    "derma_ds = pd.read_csv('C:/Users/welcome/Desktop/ML/Mod4/dermatology.data',header=None)\n",
    "derma_ds.info()"
   ]
  },
  {
   "cell_type": "code",
   "execution_count": 3,
   "metadata": {},
   "outputs": [],
   "source": [
    "derma_ds[33] = pd.to_numeric(derma_ds[33], errors='coerce').fillna(0).astype(int)\n",
    "derma_ds[33] = derma_ds[33].replace(to_replace=0,value=int(derma_ds[33].mean()))"
   ]
  },
  {
   "cell_type": "code",
   "execution_count": 4,
   "metadata": {},
   "outputs": [
    {
     "name": "stdout",
     "output_type": "stream",
     "text": [
      "[[ 2  2  0 ...  1  0 55]\n",
      " [ 3  3  3 ...  1  0  8]\n",
      " [ 2  1  2 ...  2  3 26]\n",
      " ...\n",
      " [ 3  2  2 ...  2  3 28]\n",
      " [ 2  1  3 ...  2  3 50]\n",
      " [ 3  2  2 ...  3  0 35]] [2 1 3 1 3 2 5 3 4 4 1 2 2 1 3 4 2 1 3 5 6 2 5 3 5 1 6 5 2 3 1 2 1 1 4 2 3\n",
      " 2 3 1 2 4 1 2 5 3 4 6 2 3 3 4 1 1 5 1 2 3 4 2 6 1 5 1 2 3 1 4 5 1 2 6 3 5\n",
      " 4 2 2 1 3 5 1 2 2 2 5 1 1 3 1 4 2 2 5 1 3 4 2 5 1 6 2 5 1 2 2 1 4 1 3 1 1\n",
      " 3 5 3 3 5 2 3 4 1 2 5 6 1 1 2 6 3 5 4 1 1 3 5 5 1 4 2 3 1 2 1 1 3 3 3 2 5\n",
      " 4 2 2 1 1 1 5 3 2 3 2 2 4 2 3 6 2 1 1 3 4 3 3 1 1 1 3 1 1 2 3 3 1 1 1 1 6\n",
      " 2 2 2 2 1 3 3 3 1 1 2 3 2 2 2 5 5 5 5 5 1 1 1 1 1 1 1 3 3 3 3 3 3 4 4 4 4\n",
      " 5 5 5 5 5 5 5 2 2 2 2 1 1 1 1 1 1 6 6 1 1 1 1 1 1 1 1 3 3 3 3 3 3 3 4 4 4\n",
      " 4 4 4 5 5 5 5 6 6 6 4 4 4 1 1 1 1 1 2 2 4 4 4 1 1 2 2 2 3 3 3 3 1 1 1 1 5\n",
      " 5 5 5 5 3 3 3 4 1 1 4 4 4 1 1 1 3 3 3 3 3 1 1 1 1 4 4 1 1 4 3 3 4 1 1 4 4\n",
      " 5 5 1 1 5 5 3 1 5 5 6 6 4 4 6 6 6 1 1 1 5 5 1 1 1 1 2 2 4 4 3 3 1]\n"
     ]
    }
   ],
   "source": [
    "#Spilitting the DATA\n",
    "x = derma_ds.iloc[:, 0:34].values\n",
    "y = derma_ds.iloc[:,34].values\n",
    "print(x,y)"
   ]
  },
  {
   "cell_type": "code",
   "execution_count": 5,
   "metadata": {},
   "outputs": [
    {
     "name": "stdout",
     "output_type": "stream",
     "text": [
      "index\t variance\n",
      "11 \t 0.10988682851085431\n",
      "13 \t 0.1691077667293738\n",
      "30 \t 0.2023350951058556\n",
      "31 \t 0.23819761712801218\n",
      "7 \t 0.3246812386156649\n",
      "1 \t 0.4406894801278032\n",
      "23 \t 0.44844575830869843\n",
      "2 \t 0.4907954850846546\n",
      "17 \t 0.5062856460330258\n",
      "32 \t 0.5257920511212638\n",
      "18 \t 0.571657857804055\n",
      "24 \t 0.5755994505658574\n",
      "14 \t 0.6631431216220252\n",
      "8 \t 0.693899489384574\n",
      "25 \t 0.7195198423362896\n",
      "15 \t 0.7258577443339604\n",
      "26 \t 0.7460061512735525\n",
      "12 \t 0.7545164083728986\n",
      "10 \t 0.8179402191764463\n",
      "3 \t 0.8213517871539907\n",
      "5 \t 0.8222401385529577\n",
      "19 \t 0.8396189793663593\n",
      "29 \t 0.9090447609662875\n",
      "27 \t 0.9092911105139002\n",
      "6 \t 0.9139717519185404\n",
      "9 \t 0.963607453193586\n",
      "22 \t 1.06814177789722\n",
      "20 \t 1.1138358864104634\n",
      "16 \t 1.2164068798710022\n",
      "33 \t 1.2196915405058377\n",
      "28 \t 1.2737988593269431\n",
      "4 \t 1.2921854937442145\n",
      "21 \t 1.3469273492788678\n",
      "34 \t 225.50456119919974\n"
     ]
    }
   ],
   "source": [
    "variance = np.var(x,axis=0)\n",
    "var_copy = sorted(variance)\n",
    "print(\"index\\t variance\")\n",
    "for i in range(34):\n",
    "    for j in range(34):\n",
    "        if var_copy[i]==variance[j]:\n",
    "            print(j+1,\"\\t\",var_copy[i])\n",
    "            break"
   ]
  },
  {
   "cell_type": "code",
   "execution_count": 6,
   "metadata": {},
   "outputs": [],
   "source": [
    "from sklearn.feature_selection import mutual_info_classif\n",
    "from sklearn.feature_selection import SelectPercentile\n",
    "from sklearn.metrics import accuracy_score\n",
    "from sklearn.linear_model import LogisticRegression"
   ]
  },
  {
   "cell_type": "code",
   "execution_count": 7,
   "metadata": {},
   "outputs": [
    {
     "data": {
      "text/plain": [
       "34"
      ]
     },
     "execution_count": 7,
     "metadata": {},
     "output_type": "execute_result"
    }
   ],
   "source": [
    "x1 = pd.DataFrame(x)\n",
    "mi = mutual_info_classif(x1,y)\n",
    "len(mi)"
   ]
  },
  {
   "cell_type": "code",
   "execution_count": 8,
   "metadata": {},
   "outputs": [
    {
     "data": {
      "text/plain": [
       "<matplotlib.axes._subplots.AxesSubplot at 0x1ae97b91808>"
      ]
     },
     "execution_count": 8,
     "metadata": {},
     "output_type": "execute_result"
    },
    {
     "data": {
      "image/png": "[encoded data removed]",
      "text/plain": [
       "<Figure size 864x432 with 1 Axes>"
      ]
     },
     "metadata": {
      "needs_background": "light"
     },
     "output_type": "display_data"
    }
   ],
   "source": [
    "mi = pd.Series(mi)\n",
    "mi.index = x1.columns\n",
    "mi.sort_values(ascending=False, inplace = True)\n",
    "mi.plot.bar(figsize = (12,6))"
   ]
  },
  {
   "cell_type": "code",
   "execution_count": 9,
   "metadata": {},
   "outputs": [
    {
     "name": "stdout",
     "output_type": "stream",
     "text": [
      "Accuracy :  0.9508196721311475\n"
     ]
    }
   ],
   "source": [
    "sel = SelectPercentile(mutual_info_classif, percentile=50).fit(x1,y)\n",
    "x1.columns[sel.get_support()]\n",
    "x_mi = sel.transform(x1)\n",
    "model = LogisticRegression(solver='newton-cg',multi_class='multinomial').fit(x_mi,y)\n",
    "y_pred = model.predict(x_mi)\n",
    "print('Accuracy : ',accuracy_score(y, y_pred))"
   ]
  },
  {
   "cell_type": "code",
   "execution_count": null,
   "metadata": {},
   "outputs": [],
   "source": []
  }
 ],
 "metadata": {
  "kernelspec": {
   "display_name": "Python 3",
   "language": "python",
   "name": "python3"
  },
  "language_info": {
   "codemirror_mode": {
    "name": "ipython",
    "version": 3
   },
   "file_extension": ".py",
   "mimetype": "text/x-python",
   "name": "python",
   "nbconvert_exporter": "python",
   "pygments_lexer": "ipython3",
   "version": "3.7.4"
  }
 },
 "nbformat": 4,
 "nbformat_minor": 2
}
